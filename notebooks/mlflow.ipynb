{
 "cells": [
  {
   "cell_type": "code",
   "execution_count": 39,
   "metadata": {},
   "outputs": [],
   "source": [
    "import mlflow"
   ]
  },
  {
   "cell_type": "code",
   "execution_count": 40,
   "metadata": {},
   "outputs": [],
   "source": [
    "#conexion hacia el server de mlflow\n",
    "mlflow.set_tracking_uri(\"http://127.0.0.1:5000/\")"
   ]
  },
  {
   "cell_type": "code",
   "execution_count": 41,
   "metadata": {},
   "outputs": [],
   "source": [
    "import pandas as pd\n",
    "data=pd.read_csv(\"raw.csv\")"
   ]
  },
  {
   "cell_type": "code",
   "execution_count": 42,
   "metadata": {},
   "outputs": [],
   "source": [
    "# Creacion del cliente\n",
    "client = mlflow.tracking.MlflowClient()"
   ]
  },
  {
   "cell_type": "code",
   "execution_count": 43,
   "metadata": {},
   "outputs": [],
   "source": [
    "experiments=client.search_experiments()"
   ]
  },
  {
   "cell_type": "code",
   "execution_count": 44,
   "metadata": {},
   "outputs": [
    {
     "data": {
      "text/plain": [
       "[<Experiment: artifact_location='mlflow-artifacts:/705688815352764605', creation_time=1729039652228, experiment_id='705688815352764605', last_update_time=1729039652228, lifecycle_stage='active', name='rent2', tags={}>,\n",
       " <Experiment: artifact_location='mlflow-artifacts:/459878205301148418', creation_time=1729007424862, experiment_id='459878205301148418', last_update_time=1729007424862, lifecycle_stage='active', name='rent', tags={}>,\n",
       " <Experiment: artifact_location='mlflow-artifacts:/0', creation_time=1729005547640, experiment_id='0', last_update_time=1729005547640, lifecycle_stage='active', name='Default', tags={'mlflow.sharedViewState.f9cbb98e7827c2a2615434cfc5dbc9f9c23b9a6268feed2a3bef82206d68bb20': 'deflate;eJxdUtFOAjEQ/BXTZ2Lw9d4OBCWCMQcSE2KgtAu3Sa8l3S2ChH93D05BHnd2ZrY724Mi0NGUfXQMUWVKtVSIFmJn/wJ7qTVzxGVioHtiHXnOWMGFlJNR2Uo7gpY69Sd1O1P5cCgkhyswe+Pgzz43jNtabzVrAqbfzuyzpapgwU0hEgZ/UTh3VyRPoiFwYBhsN7hUCZLNrp+3GIcUDSyEeI2OalO6RR/P4xdKxkZx7+022luwKjscz8gbel/Xs4bxjNaCv61rd3lkf1CMJ/OH9rx4fx3LqC3C10jvsMLv2qMJSGRDJP51alCk3BiJU5Yu4BTrlSQRPMWQNmCn2iWgge+WkrLszjFJv0QLvWrD+//wutZ05H4+OdeUNzvqxKGAVQQqe14v3dXQtQtL7Ybo4eTaDX6Fa1GpXb5DOv8LYticLuxhXIXApQeS8e3LlT5q8ggkc3OWqOPxB/TD3fI='}>]"
      ]
     },
     "execution_count": 44,
     "metadata": {},
     "output_type": "execute_result"
    }
   ],
   "source": [
    "experiments"
   ]
  },
  {
   "cell_type": "code",
   "execution_count": 45,
   "metadata": {},
   "outputs": [],
   "source": [
    "experiment=list(filter(lambda k:k.name=='rent',experiments))[0]"
   ]
  },
  {
   "cell_type": "code",
   "execution_count": 46,
   "metadata": {},
   "outputs": [
    {
     "data": {
      "text/plain": [
       "<Experiment: artifact_location='mlflow-artifacts:/459878205301148418', creation_time=1729007424862, experiment_id='459878205301148418', last_update_time=1729007424862, lifecycle_stage='active', name='rent', tags={}>"
      ]
     },
     "execution_count": 46,
     "metadata": {},
     "output_type": "execute_result"
    }
   ],
   "source": [
    "experiment"
   ]
  },
  {
   "cell_type": "code",
   "execution_count": 47,
   "metadata": {},
   "outputs": [],
   "source": [
    "experiment_id =experiment.experiment_id"
   ]
  },
  {
   "cell_type": "code",
   "execution_count": 48,
   "metadata": {},
   "outputs": [
    {
     "data": {
      "text/plain": [
       "'459878205301148418'"
      ]
     },
     "execution_count": 48,
     "metadata": {},
     "output_type": "execute_result"
    }
   ],
   "source": [
    "experiment_id"
   ]
  },
  {
   "cell_type": "code",
   "execution_count": 49,
   "metadata": {},
   "outputs": [],
   "source": [
    "runs=client.search_runs(experiment_ids=experiment_id,\n",
    "                        filter_string=\"\",\n",
    "                        run_view_type=mlflow.entities.ViewType.ACTIVE_ONLY,\n",
    "                        max_results=3,\n",
    "                        order_by=[\"metrics.R2 DESC\"])# ordenar por R2 desc porque va de 0 a 1"
   ]
  },
  {
   "cell_type": "code",
   "execution_count": 50,
   "metadata": {},
   "outputs": [
    {
     "data": {
      "text/plain": [
       "[<Run: data=<RunData: metrics={'MAE': 13560.8832,\n",
       "  'MAPE': 0.3942,\n",
       "  'MSE': 4797064183.7205,\n",
       "  'R2': 0.5752,\n",
       "  'RMSE': 50892.3412,\n",
       "  'RMSLE': 0.4328,\n",
       "  'TT': 0.17}, params={'bootstrap': 'False',\n",
       "  'ccp_alpha': '0.0',\n",
       "  'criterion': 'squared_error',\n",
       "  'max_depth': '10',\n",
       "  'max_features': 'sqrt',\n",
       "  'max_leaf_nodes': 'None',\n",
       "  'max_samples': 'None',\n",
       "  'min_impurity_decrease': '0.2',\n",
       "  'min_samples_leaf': '5',\n",
       "  'min_samples_split': '9',\n",
       "  'min_weight_fraction_leaf': '0.0',\n",
       "  'monotonic_cst': 'None',\n",
       "  'n_estimators': '170',\n",
       "  'n_jobs': '-1',\n",
       "  'oob_score': 'False',\n",
       "  'random_state': '123',\n",
       "  'verbose': '0',\n",
       "  'warm_start': 'False'}, tags={'Run ID': '31cf7e2fa1df4458806f949f5fdbd8f4',\n",
       "  'Run Time': '25.11',\n",
       "  'Source': 'tune_model',\n",
       "  'URI': 'ccfb0e4a',\n",
       "  'USI': '5a95',\n",
       "  'mlflow.log-model.history': '[{\"run_id\": \"31cf7e2fa1df4458806f949f5fdbd8f4\", '\n",
       "                              '\"artifact_path\": \"model\", \"utc_time_created\": '\n",
       "                              '\"2024-10-16 00:56:19.999780\", \"model_uuid\": '\n",
       "                              '\"9510b98d743345cfaa6a9c632f22fe9e\", \"flavors\": '\n",
       "                              '{\"python_function\": {\"model_path\": \"model.pkl\", '\n",
       "                              '\"predict_fn\": \"predict\", \"loader_module\": '\n",
       "                              '\"mlflow.sklearn\", \"python_version\": \"3.10.6\", '\n",
       "                              '\"env\": {\"conda\": \"conda.yaml\", \"virtualenv\": '\n",
       "                              '\"python_env.yaml\"}}, \"sklearn\": '\n",
       "                              '{\"pickled_model\": \"model.pkl\", '\n",
       "                              '\"sklearn_version\": \"1.4.2\", '\n",
       "                              '\"serialization_format\": \"cloudpickle\", \"code\": '\n",
       "                              'null}}}]',\n",
       "  'mlflow.parentRunId': 'd683555b158344b485a4744e88c1890f',\n",
       "  'mlflow.runName': 'Random Forest Regressor',\n",
       "  'mlflow.source.name': '/Users/jhonefrainpomarosles/DMC/MLOPS/venv/lib/python3.10/site-packages/ipykernel_launcher.py',\n",
       "  'mlflow.source.type': 'LOCAL',\n",
       "  'mlflow.user': 'jhonefrainpomarosles'}>, info=<RunInfo: artifact_uri='mlflow-artifacts:/459878205301148418/31cf7e2fa1df4458806f949f5fdbd8f4/artifacts', end_time=1729040180148, experiment_id='459878205301148418', lifecycle_stage='active', run_id='31cf7e2fa1df4458806f949f5fdbd8f4', run_name='Random Forest Regressor', run_uuid='31cf7e2fa1df4458806f949f5fdbd8f4', start_time=1729040179511, status='FINISHED', user_id='jhonefrainpomarosles'>, inputs=<RunInputs: dataset_inputs=[]>>,\n",
       " <Run: data=<RunData: metrics={'MAE': 13560.8832,\n",
       "  'MAPE': 0.3942,\n",
       "  'MSE': 4797064183.7205,\n",
       "  'R2': 0.5752,\n",
       "  'RMSE': 50892.3412,\n",
       "  'RMSLE': 0.4328,\n",
       "  'TT': 0.12}, params={'bootstrap': 'False',\n",
       "  'ccp_alpha': '0.0',\n",
       "  'criterion': 'squared_error',\n",
       "  'max_depth': '10',\n",
       "  'max_features': 'sqrt',\n",
       "  'max_leaf_nodes': 'None',\n",
       "  'max_samples': 'None',\n",
       "  'min_impurity_decrease': '0.2',\n",
       "  'min_samples_leaf': '5',\n",
       "  'min_samples_split': '9',\n",
       "  'min_weight_fraction_leaf': '0.0',\n",
       "  'monotonic_cst': 'None',\n",
       "  'n_estimators': '170',\n",
       "  'n_jobs': '-1',\n",
       "  'oob_score': 'False',\n",
       "  'random_state': '123',\n",
       "  'verbose': '0',\n",
       "  'warm_start': 'False'}, tags={'Run ID': '7cc72fbf979b49b5a88c7801564457b6',\n",
       "  'Run Time': '25.61',\n",
       "  'Source': 'tune_model',\n",
       "  'URI': 'ec34bd07',\n",
       "  'USI': '5a95',\n",
       "  'mlflow.log-model.history': '[{\"run_id\": \"7cc72fbf979b49b5a88c7801564457b6\", '\n",
       "                              '\"artifact_path\": \"model\", \"utc_time_created\": '\n",
       "                              '\"2024-10-16 00:54:48.000144\", \"model_uuid\": '\n",
       "                              '\"f6d6ec11ebf54de7b07725d84fdf24a0\", \"flavors\": '\n",
       "                              '{\"python_function\": {\"model_path\": \"model.pkl\", '\n",
       "                              '\"predict_fn\": \"predict\", \"loader_module\": '\n",
       "                              '\"mlflow.sklearn\", \"python_version\": \"3.10.6\", '\n",
       "                              '\"env\": {\"conda\": \"conda.yaml\", \"virtualenv\": '\n",
       "                              '\"python_env.yaml\"}}, \"sklearn\": '\n",
       "                              '{\"pickled_model\": \"model.pkl\", '\n",
       "                              '\"sklearn_version\": \"1.4.2\", '\n",
       "                              '\"serialization_format\": \"cloudpickle\", \"code\": '\n",
       "                              'null}}}]',\n",
       "  'mlflow.parentRunId': 'd683555b158344b485a4744e88c1890f',\n",
       "  'mlflow.runName': 'Random Forest Regressor',\n",
       "  'mlflow.source.name': '/Users/jhonefrainpomarosles/DMC/MLOPS/venv/lib/python3.10/site-packages/ipykernel_launcher.py',\n",
       "  'mlflow.source.type': 'LOCAL',\n",
       "  'mlflow.user': 'jhonefrainpomarosles'}>, info=<RunInfo: artifact_uri='mlflow-artifacts:/459878205301148418/7cc72fbf979b49b5a88c7801564457b6/artifacts', end_time=1729040088156, experiment_id='459878205301148418', lifecycle_stage='active', run_id='7cc72fbf979b49b5a88c7801564457b6', run_name='Random Forest Regressor', run_uuid='7cc72fbf979b49b5a88c7801564457b6', start_time=1729040087558, status='FINISHED', user_id='jhonefrainpomarosles'>, inputs=<RunInputs: dataset_inputs=[]>>,\n",
       " <Run: data=<RunData: metrics={'MAE': 13560.8832,\n",
       "  'MAPE': 0.3942,\n",
       "  'MSE': 4797064183.7205,\n",
       "  'R2': 0.5752,\n",
       "  'RMSE': 50892.3412,\n",
       "  'RMSLE': 0.4328,\n",
       "  'TT': 0.1}, params={'bootstrap': 'False',\n",
       "  'ccp_alpha': '0.0',\n",
       "  'criterion': 'squared_error',\n",
       "  'max_depth': '10',\n",
       "  'max_features': 'sqrt',\n",
       "  'max_leaf_nodes': 'None',\n",
       "  'max_samples': 'None',\n",
       "  'min_impurity_decrease': '0.2',\n",
       "  'min_samples_leaf': '5',\n",
       "  'min_samples_split': '9',\n",
       "  'min_weight_fraction_leaf': '0.0',\n",
       "  'monotonic_cst': 'None',\n",
       "  'n_estimators': '170',\n",
       "  'n_jobs': '-1',\n",
       "  'oob_score': 'False',\n",
       "  'random_state': '123',\n",
       "  'verbose': '0',\n",
       "  'warm_start': 'False'}, tags={'Run ID': 'aa203916d03546b285bf23f97873bccc',\n",
       "  'Run Time': '21.98',\n",
       "  'Source': 'tune_model',\n",
       "  'URI': '7bbf385e',\n",
       "  'USI': '18bc',\n",
       "  'mlflow.log-model.history': '[{\"run_id\": \"aa203916d03546b285bf23f97873bccc\", '\n",
       "                              '\"artifact_path\": \"model\", \"utc_time_created\": '\n",
       "                              '\"2024-10-15 15:57:20.442074\", \"model_uuid\": '\n",
       "                              '\"c546d43f577d4f4a82ed6e6f4a5437f7\", \"flavors\": '\n",
       "                              '{\"python_function\": {\"model_path\": \"model.pkl\", '\n",
       "                              '\"predict_fn\": \"predict\", \"loader_module\": '\n",
       "                              '\"mlflow.sklearn\", \"python_version\": \"3.10.6\", '\n",
       "                              '\"env\": {\"conda\": \"conda.yaml\", \"virtualenv\": '\n",
       "                              '\"python_env.yaml\"}}, \"sklearn\": '\n",
       "                              '{\"pickled_model\": \"model.pkl\", '\n",
       "                              '\"sklearn_version\": \"1.4.2\", '\n",
       "                              '\"serialization_format\": \"cloudpickle\", \"code\": '\n",
       "                              'null}}}]',\n",
       "  'mlflow.parentRunId': '57ccda281490421c85b1c129091f4e2d',\n",
       "  'mlflow.runName': 'Random Forest Regressor',\n",
       "  'mlflow.source.name': '/Users/jhonefrainpomarosles/DMC/MLOPS/venv/lib/python3.10/site-packages/ipykernel_launcher.py',\n",
       "  'mlflow.source.type': 'LOCAL',\n",
       "  'mlflow.user': 'jhonefrainpomarosles'}>, info=<RunInfo: artifact_uri='mlflow-artifacts:/459878205301148418/aa203916d03546b285bf23f97873bccc/artifacts', end_time=1729007840555, experiment_id='459878205301148418', lifecycle_stage='active', run_id='aa203916d03546b285bf23f97873bccc', run_name='Random Forest Regressor', run_uuid='aa203916d03546b285bf23f97873bccc', start_time=1729007839782, status='FINISHED', user_id='jhonefrainpomarosles'>, inputs=<RunInputs: dataset_inputs=[]>>]"
      ]
     },
     "execution_count": 50,
     "metadata": {},
     "output_type": "execute_result"
    }
   ],
   "source": [
    "runs"
   ]
  },
  {
   "cell_type": "code",
   "execution_count": 51,
   "metadata": {},
   "outputs": [],
   "source": [
    "runs=runs[0]"
   ]
  },
  {
   "cell_type": "code",
   "execution_count": 52,
   "metadata": {},
   "outputs": [
    {
     "data": {
      "text/plain": [
       "<Run: data=<RunData: metrics={'MAE': 13560.8832,\n",
       " 'MAPE': 0.3942,\n",
       " 'MSE': 4797064183.7205,\n",
       " 'R2': 0.5752,\n",
       " 'RMSE': 50892.3412,\n",
       " 'RMSLE': 0.4328,\n",
       " 'TT': 0.17}, params={'bootstrap': 'False',\n",
       " 'ccp_alpha': '0.0',\n",
       " 'criterion': 'squared_error',\n",
       " 'max_depth': '10',\n",
       " 'max_features': 'sqrt',\n",
       " 'max_leaf_nodes': 'None',\n",
       " 'max_samples': 'None',\n",
       " 'min_impurity_decrease': '0.2',\n",
       " 'min_samples_leaf': '5',\n",
       " 'min_samples_split': '9',\n",
       " 'min_weight_fraction_leaf': '0.0',\n",
       " 'monotonic_cst': 'None',\n",
       " 'n_estimators': '170',\n",
       " 'n_jobs': '-1',\n",
       " 'oob_score': 'False',\n",
       " 'random_state': '123',\n",
       " 'verbose': '0',\n",
       " 'warm_start': 'False'}, tags={'Run ID': '31cf7e2fa1df4458806f949f5fdbd8f4',\n",
       " 'Run Time': '25.11',\n",
       " 'Source': 'tune_model',\n",
       " 'URI': 'ccfb0e4a',\n",
       " 'USI': '5a95',\n",
       " 'mlflow.log-model.history': '[{\"run_id\": \"31cf7e2fa1df4458806f949f5fdbd8f4\", '\n",
       "                             '\"artifact_path\": \"model\", \"utc_time_created\": '\n",
       "                             '\"2024-10-16 00:56:19.999780\", \"model_uuid\": '\n",
       "                             '\"9510b98d743345cfaa6a9c632f22fe9e\", \"flavors\": '\n",
       "                             '{\"python_function\": {\"model_path\": \"model.pkl\", '\n",
       "                             '\"predict_fn\": \"predict\", \"loader_module\": '\n",
       "                             '\"mlflow.sklearn\", \"python_version\": \"3.10.6\", '\n",
       "                             '\"env\": {\"conda\": \"conda.yaml\", \"virtualenv\": '\n",
       "                             '\"python_env.yaml\"}}, \"sklearn\": '\n",
       "                             '{\"pickled_model\": \"model.pkl\", '\n",
       "                             '\"sklearn_version\": \"1.4.2\", '\n",
       "                             '\"serialization_format\": \"cloudpickle\", \"code\": '\n",
       "                             'null}}}]',\n",
       " 'mlflow.parentRunId': 'd683555b158344b485a4744e88c1890f',\n",
       " 'mlflow.runName': 'Random Forest Regressor',\n",
       " 'mlflow.source.name': '/Users/jhonefrainpomarosles/DMC/MLOPS/venv/lib/python3.10/site-packages/ipykernel_launcher.py',\n",
       " 'mlflow.source.type': 'LOCAL',\n",
       " 'mlflow.user': 'jhonefrainpomarosles'}>, info=<RunInfo: artifact_uri='mlflow-artifacts:/459878205301148418/31cf7e2fa1df4458806f949f5fdbd8f4/artifacts', end_time=1729040180148, experiment_id='459878205301148418', lifecycle_stage='active', run_id='31cf7e2fa1df4458806f949f5fdbd8f4', run_name='Random Forest Regressor', run_uuid='31cf7e2fa1df4458806f949f5fdbd8f4', start_time=1729040179511, status='FINISHED', user_id='jhonefrainpomarosles'>, inputs=<RunInputs: dataset_inputs=[]>>"
      ]
     },
     "execution_count": 52,
     "metadata": {},
     "output_type": "execute_result"
    }
   ],
   "source": [
    "runs"
   ]
  },
  {
   "cell_type": "code",
   "execution_count": 53,
   "metadata": {},
   "outputs": [],
   "source": [
    "run_id=runs.data.tags['Run ID']"
   ]
  },
  {
   "cell_type": "code",
   "execution_count": 54,
   "metadata": {},
   "outputs": [
    {
     "data": {
      "text/plain": [
       "'31cf7e2fa1df4458806f949f5fdbd8f4'"
      ]
     },
     "execution_count": 54,
     "metadata": {},
     "output_type": "execute_result"
    }
   ],
   "source": [
    "#como tenemos el id  podemos utilizarlo para obtener los artefactos\n",
    "run_id"
   ]
  },
  {
   "cell_type": "code",
   "execution_count": null,
   "metadata": {},
   "outputs": [],
   "source": [
    "import mlflow\n",
    "logged_model = 'runs:/31cf7e2fa1df4458806f949f5fdbd8f4/model'\n",
    "\n",
    "# Load model as a PyFuncModel.\n",
    "loaded_model = mlflow.pyfunc.load_model(logged_model)\n",
    "\n",
    "# Predict on a Pandas DataFrame.\n",
    "import pandas as pd\n",
    "loaded_model.predict(pd.DataFrame(data))"
   ]
  },
  {
   "cell_type": "code",
   "execution_count": 55,
   "metadata": {},
   "outputs": [
    {
     "data": {
      "application/vnd.jupyter.widget-view+json": {
       "model_id": "aeb11375261d467aa07afdbd7c4bac69",
       "version_major": 2,
       "version_minor": 0
      },
      "text/plain": [
       "Downloading artifacts:   0%|          | 0/5 [00:00<?, ?it/s]"
      ]
     },
     "metadata": {},
     "output_type": "display_data"
    },
    {
     "data": {
      "text/plain": [
       "array([13043.37433298, 11320.68689416, 11590.48878393, ...,\n",
       "       44858.57708813, 40754.96904143, 17518.976683  ])"
      ]
     },
     "execution_count": 55,
     "metadata": {},
     "output_type": "execute_result"
    }
   ],
   "source": [
    "import mlflow\n",
    "logged_model = f'runs:/{run_id}/model'\n",
    "\n",
    "# Load model as a PyFuncModel.\n",
    "loaded_model = mlflow.pyfunc.load_model(logged_model)\n",
    "\n",
    "# Predict on a Pandas DataFrame.\n",
    "import pandas as pd\n",
    "exclude_variables=['Posted On','Area Locality','Floor']\n",
    "loaded_model.predict(data.drop(columns=exclude_variables+['Rent']))"
   ]
  },
  {
   "cell_type": "code",
   "execution_count": 56,
   "metadata": {},
   "outputs": [
    {
     "name": "stderr",
     "output_type": "stream",
     "text": [
      "Successfully registered model 'rent_model2'.\n",
      "2024/10/15 20:20:47 INFO mlflow.store.model_registry.abstract_store: Waiting up to 300 seconds for model version to finish creation. Model name: rent_model2, version 1\n",
      "Created version '1' of model 'rent_model2'.\n"
     ]
    },
    {
     "data": {
      "text/plain": [
       "<ModelVersion: aliases=[], creation_timestamp=1729041647595, current_stage='None', description='', last_updated_timestamp=1729041647595, name='rent_model2', run_id='31cf7e2fa1df4458806f949f5fdbd8f4', run_link='', source='mlflow-artifacts:/459878205301148418/31cf7e2fa1df4458806f949f5fdbd8f4/artifacts/model', status='READY', status_message='', tags={}, user_id='', version='1'>"
      ]
     },
     "execution_count": 56,
     "metadata": {},
     "output_type": "execute_result"
    }
   ],
   "source": [
    "#utilizar en el entorno de produccion\n",
    "#registrar un modelo el mejor pase por el proceso de validacion\n",
    "# el modelo se registra en el servidor de mlflow\n",
    "# se registra en funcion de run_id y poder colocar un nombre\n",
    "\n",
    "mlflow.register_model(f\"runs:/{run_id}/model\", \"rent_model2\")"
   ]
  },
  {
   "cell_type": "code",
   "execution_count": 57,
   "metadata": {},
   "outputs": [
    {
     "data": {
      "text/plain": [
       "<ModelVersion: aliases=[], creation_timestamp=1729041647595, current_stage='Production', description='', last_updated_timestamp=1729041708241, name='rent_model2', run_id='31cf7e2fa1df4458806f949f5fdbd8f4', run_link='', source='mlflow-artifacts:/459878205301148418/31cf7e2fa1df4458806f949f5fdbd8f4/artifacts/model', status='READY', status_message='', tags={}, user_id='', version='1'>"
      ]
     },
     "execution_count": 57,
     "metadata": {},
     "output_type": "execute_result"
    }
   ],
   "source": [
    "client.transition_model_version_stage(name='rent_model2',version=1,stage='Production')"
   ]
  },
  {
   "cell_type": "code",
   "execution_count": 36,
   "metadata": {},
   "outputs": [
    {
     "data": {
      "application/vnd.jupyter.widget-view+json": {
       "model_id": "e7ebf9daf4cf465e8431b476a8494aff",
       "version_major": 2,
       "version_minor": 0
      },
      "text/plain": [
       "Downloading artifacts:   0%|          | 0/5 [00:00<?, ?it/s]"
      ]
     },
     "metadata": {},
     "output_type": "display_data"
    },
    {
     "data": {
      "text/plain": [
       "array([13043.37433298, 11320.68689416, 11590.48878393, ...,\n",
       "       44858.57708813, 40754.96904143, 17518.976683  ])"
      ]
     },
     "execution_count": 36,
     "metadata": {},
     "output_type": "execute_result"
    }
   ],
   "source": [
    "#la carga del modelo en produccion es desde el estado de produccion\n",
    "import mlflow\n",
    "logged_model = f'models:/rent_model/Production'\n",
    "\n",
    "# Load model as a PyFuncModel.\n",
    "loaded_model = mlflow.pyfunc.load_model(logged_model)\n",
    "\n",
    "# Predict on a Pandas DataFrame.\n",
    "import pandas as pd\n",
    "exclude_variables=['Posted On','Area Locality','Floor']\n",
    "loaded_model.predict(data.drop(columns=exclude_variables+['Rent']))"
   ]
  },
  {
   "cell_type": "code",
   "execution_count": null,
   "metadata": {},
   "outputs": [],
   "source": [
    "#tag al modelo:\n",
    "\n",
    "registered_model = mlflow.register_model(logged_model,'rent_model')\n",
    "\n",
    "# Obtener la versión del modelo registrado\n",
    "\n",
    "model_version = registered_model.version\n",
    "\n",
    "# Asignar la etiqueta (tag) al modelo registrado\n",
    "\n",
    "client.set_model_version_tag(\n",
    "\n",
    "    name='rent_model2',\n",
    "\n",
    "    version=model_version,\n",
    "\n",
    "    key=\"Autor\",\n",
    "\n",
    "    value=\"Jhon Poma\"\n",
    "\n",
    ")"
   ]
  },
  {
   "cell_type": "code",
   "execution_count": null,
   "metadata": {},
   "outputs": [],
   "source": []
  },
  {
   "cell_type": "code",
   "execution_count": null,
   "metadata": {},
   "outputs": [],
   "source": []
  },
  {
   "cell_type": "code",
   "execution_count": null,
   "metadata": {},
   "outputs": [],
   "source": []
  }
 ],
 "metadata": {
  "kernelspec": {
   "display_name": "venv",
   "language": "python",
   "name": "python3"
  },
  "language_info": {
   "codemirror_mode": {
    "name": "ipython",
    "version": 3
   },
   "file_extension": ".py",
   "mimetype": "text/x-python",
   "name": "python",
   "nbconvert_exporter": "python",
   "pygments_lexer": "ipython3",
   "version": "3.10.6"
  }
 },
 "nbformat": 4,
 "nbformat_minor": 2
}
